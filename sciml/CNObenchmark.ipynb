{
 "cells": [
  {
   "cell_type": "code",
   "execution_count": 1,
   "id": "b2d76cab-147a-4b0c-974e-7d1b645eb5ff",
   "metadata": {},
   "outputs": [],
   "source": [
    "import h5py\n",
    "import yaml\n",
    "import numpy as np\n",
    "import matplotlib.pyplot as plt\n",
    "import torch\n",
    "import sys; sys.path.insert(0, '..')\n",
    "#sys.path.append('/dfs6/pub/nsankar1/pushes_bubbleML/BubbleML/sciml/models/ConvolutionalNeuralOperator')\n",
    "from models.ConvolutionalNeuralOperator.CNOModule import CNO\n",
    "from op_lib.disk_hdf5_dataset import DiskTempInputDataset\n",
    "import os\n",
    "import matplotlib.animation as animation"
   ]
  },
  {
   "cell_type": "code",
   "execution_count": 2,
   "id": "051225e1-0b34-4026-9be4-4e0a39d9d18b",
   "metadata": {},
   "outputs": [],
   "source": [
    "checkpoint_path = \"./CNO_wall_super_heat_temp_upscale_input_dataset_1708085901.pt\"\n",
    "experiment_yaml_file = \"/dfs6/pub/nsankar1/pushes_bubbleML/BubbleML/conf/experiment/experimental/cno/pb_temp_upscale.yaml\"\n",
    "\n",
    "with open(experiment_yaml_file, 'r') as file:\n",
    "    model_params = yaml.safe_load(file)\n",
    "\n",
    "model = CNO(in_dim = 27, \n",
    "            in_size = model_params['model']['in_size'], \n",
    "            N_layers = model_params['model']['n_layers'],\n",
    "            out_dim = model_params['train']['future_window'],\n",
    "            upscale_factor= model_params['model']['upscale_factor'])\n",
    "\n",
    "checkpoint = torch.load(checkpoint_path)\n",
    "model.load_state_dict(checkpoint['model_state_dict'])\n",
    "#print(checkpoint) #'train_data_max_temp' 'train_data_max_vel'\n",
    "max_temp = checkpoint['train_data_max_temp']\n",
    "max_vel = checkpoint['train_data_max_vel']\n",
    "\n",
    "data_set_path = \"/share/crsp/lab/amowli/share/BubbleML2/PoolBoiling-WallSuperheat-FC72-2D/Twall-90.hdf5\"\n",
    "\n",
    "DataSet = DiskTempInputDataset(data_set_path,\n",
    "                 30,\n",
    "                 transform=False,\n",
    "                 time_window=model_params['train']['future_window'],\n",
    "                 future_window=model_params['train']['time_window'],\n",
    "                 push_forward_steps=1,\n",
    "                 use_coords = True);\n",
    "\n",
    "DataSet.normalize_temp_(max_temp)\n",
    "DataSet.normalize_vel_(max_vel)"
   ]
  },
  {
   "cell_type": "code",
   "execution_count": 9,
   "id": "bfc6f599-31de-418a-afb3-1d5f54630ff8",
   "metadata": {},
   "outputs": [
    {
     "name": "stdout",
     "output_type": "stream",
     "text": [
      "torch.Size([1, 30, 256, 256]) torch.Size([1, 27, 128, 128])\n",
      "torch.Size([1, 30, 256, 256]) torch.Size([1, 30, 256, 256])\n"
     ]
    }
   ],
   "source": [
    "down_sample_factor = 4\n",
    "segments = 6\n",
    "offset = 30\n",
    "\n",
    "inputs = []\n",
    "labels = []\n",
    "preds = []\n",
    "input_temps = []\n",
    "for i in range(segments):\n",
    "    coords, temp, vel, label = DataSet.__getitem__(offset+(model_params['train']['future_window']*i))\n",
    "    coords = torch.Tensor(coords.float()).unsqueeze(0) #to(int(os.environ['LOCAL_RANK']))\n",
    "    temp = torch.Tensor(temp.float()).unsqueeze(0)\n",
    "    vel = torch.Tensor(vel.float()).unsqueeze(0)\n",
    "    label = torch.Tensor(label.float()).unsqueeze(0)\n",
    "    input = torch.cat((coords[:,:,::down_sample_factor,::down_sample_factor], \n",
    "                       temp[:,:,::down_sample_factor,::down_sample_factor], \n",
    "                       vel[:,:,::down_sample_factor,::down_sample_factor]), dim=1)\n",
    "    inputs += [input]\n",
    "    factor = int((down_sample_factor/model_params['model']['upscale_factor']))\n",
    "    labels += [label[:,:,::factor,::factor]]\n",
    "    input_temps += [temp[:,:,::down_sample_factor,::down_sample_factor]]\n",
    "\n",
    "labels = torch.cat(labels, dim = 1)\n",
    "print(labels.shape, inputs[0].shape)\n",
    "input_temps = torch.cat(input_temps, dim = 1)\n",
    "\n",
    "for input in inputs:\n",
    "    pred = model(input)\n",
    "    preds += [pred]\n",
    "\n",
    "preds = torch.cat(preds, dim = 1)\n",
    "error = torch.abs(labels - preds)\n",
    "\n",
    "print(preds.shape, labels.shape)"
   ]
  },
  {
   "cell_type": "code",
   "execution_count": 10,
   "id": "d6cf04b7-020f-4de6-8bc5-e987352f531d",
   "metadata": {},
   "outputs": [
    {
     "data": {
      "image/png": "[encoded data removed]",
      "text/plain": [
       "<Figure size 640x480 with 8 Axes>"
      ]
     },
     "metadata": {},
     "output_type": "display_data"
    }
   ],
   "source": [
    "fig, ax = plt.subplots(1,4)\n",
    "\n",
    "im = ax[0].imshow(np.flipud(input_temps.detach().numpy()[0,0]), animated = True)\n",
    "im = ax[1].imshow(np.flipud(preds.detach().numpy()[0,0]), animated = True)\n",
    "im = ax[2].imshow(np.flipud(labels.detach().numpy()[0,0]), animated = True)\n",
    "im = ax[3].imshow(np.flipud(error.detach().numpy()[0,0]), animated = True)\n",
    "\n",
    "ax[0].set_title(\"input\")\n",
    "ax[1].set_title(\"prediction\")\n",
    "ax[2].set_title(\"label\")\n",
    "ax[3].set_title(\"error\")\n",
    "\n",
    "for i in range(4):\n",
    "    fig.colorbar(im, ax=ax[i], shrink=0.8, orientation='horizontal')\n",
    "    ax[i].set_xticks([])\n",
    "    ax[i].set_yticks([])\n",
    "\n",
    "\n",
    "ims = []\n",
    "for i in range(0, (model_params['train']['future_window']*segments) - 1):\n",
    "    ims += [(ax[0].imshow(np.flipud(input_temps.detach().numpy()[0,i+1])), \n",
    "             ax[1].imshow(np.flipud(preds.detach().numpy()[0,i+1])),\n",
    "             ax[2].imshow(np.flipud(labels.detach().numpy()[0,i+1])),\n",
    "             ax[3].imshow(np.flipud(error.detach().numpy()[0,i+1])))]\n",
    "\n",
    "ani = animation.ArtistAnimation(fig, ims, interval=200, blit=True,\n",
    "                                repeat_delay=1000)\n",
    "\n",
    "plt.show()\n",
    "\n",
    "writergif = animation.PillowWriter(fps=5)\n",
    "ani.save('pred.gif',writer=writergif)"
   ]
  },
  {
   "cell_type": "code",
   "execution_count": null,
   "id": "b889e3bc-d7f3-4ce3-ba07-d80e8814dd3e",
   "metadata": {},
   "outputs": [],
   "source": []
  }
 ],
 "metadata": {
  "kernelspec": {
   "display_name": "Python 3 (ipykernel)",
   "language": "python",
   "name": "python3"
  },
  "language_info": {
   "codemirror_mode": {
    "name": "ipython",
    "version": 3
   },
   "file_extension": ".py",
   "mimetype": "text/x-python",
   "name": "python",
   "nbconvert_exporter": "python",
   "pygments_lexer": "ipython3",
   "version": "3.10.2"
  }
 },
 "nbformat": 4,
 "nbformat_minor": 5
}
