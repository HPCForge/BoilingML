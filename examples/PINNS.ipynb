{
 "cells": [
  {
   "cell_type": "code",
   "execution_count": 1,
   "metadata": {},
   "outputs": [
    {
     "name": "stderr",
     "output_type": "stream",
     "text": [
      "c:\\Users\\Harsh\\anaconda3\\envs\\bubble_sciml\\lib\\site-packages\\tqdm\\auto.py:21: TqdmWarning: IProgress not found. Please update jupyter and ipywidgets. See https://ipywidgets.readthedocs.io/en/stable/user_install.html\n",
      "  from .autonotebook import tqdm as notebook_tqdm\n"
     ]
    }
   ],
   "source": [
    "import h5py\n",
    "import numpy as np\n",
    "import matplotlib.pyplot as plt\n",
    "import numba as nb\n",
    "import torch\n",
    "import torch.nn.functional as F\n"
   ]
  },
  {
   "cell_type": "code",
   "execution_count": 2,
   "metadata": {},
   "outputs": [
    {
     "name": "stdout",
     "output_type": "stream",
     "text": [
      "# Timesteps: 201\n",
      "Domain resolution: 48 x 48\n",
      "(201, 48, 48)\n",
      "torch.Size([201, 48, 48])\n"
     ]
    }
   ],
   "source": [
    "twall_100 = h5py.File('Twall-100.hdf5', 'r')\n",
    "[time_res, y_res, x_res] = twall_100['temperature'][:].shape\n",
    "\n",
    "print(f'# Timesteps: {time_res}')\n",
    "print(f'Domain resolution: {y_res} x {x_res}')\n",
    "\n",
    "temp = twall_100['temperature'][:]\n",
    "print(temp.shape)\n",
    "velx = torch.from_numpy(twall_100['velx'][:]).cuda()\n",
    "vely = torch.from_numpy(twall_100['vely'][:]).cuda()\n",
    "pres = torch.from_numpy(twall_100['pressure'][:]).cuda()\n",
    "print(pres.shape)\n",
    "dfun = torch.from_numpy(twall_100['dfun'][:]).cuda()\n",
    "x_dim = twall_100['x']\n",
    "y_dim = twall_100['y']\n",
    "\n",
    "param_dict = {}\n",
    "for param in twall_100['real-runtime-params'][:]:\n",
    "    param_dict[param[0].decode().strip()] = param[1]"
   ]
  },
  {
   "cell_type": "code",
   "execution_count": 23,
   "metadata": {},
   "outputs": [],
   "source": [
    "def trim_ends(field, dim):\n",
    "        for d in dim:\n",
    "            field = torch.narrow(field, d, 0, field.shape[d] - 1)\n",
    "    \n",
    "        return field\n",
    "\n",
    "def compute_gradient(vel, resolution):\n",
    "    grad = []\n",
    "    \n",
    "    for (i,res) in enumerate(resolution):\n",
    "        dim = [-len(resolution)+((i+k)%len(resolution)) for k in range(1,len(resolution))]\n",
    "        if i == 0:\n",
    "            grad.append(trim_ends(compute_derivative(vel, res, -len(resolution)+i, -1), dim).unsqueeze(0))\n",
    "        else:\n",
    "            grad.append(trim_ends(compute_derivative(vel, res, -len(resolution)+i, 1), dim).unsqueeze(0))\n",
    "\n",
    "    for i in grad:\n",
    "        print(i.shape)\n",
    "    grad = torch.cat(grad, dim = 0)\n",
    "\n",
    "    return grad\n",
    "\n",
    "    \n",
    "def compute_derivative(field, resolution, dim, direction = 1):\n",
    "    N = field.shape\n",
    "    \n",
    "    resh = [1] * len(N)\n",
    "    resh[dim] = N[dim]\n",
    "\n",
    "    reps = list(N)\n",
    "    reps[dim] = 1\n",
    "    \n",
    "    k = (torch.fft.fftfreq(N[dim], resolution).reshape(resh).repeat(reps)*resolution).cuda()\n",
    "\n",
    "    field_derivative = torch.fft.fft(field, dim = dim)\n",
    "\n",
    "    if direction == 1:\n",
    "        field_derivative = field_derivative * (torch.exp(2j * np.pi * k) - 1)\n",
    "    else:\n",
    "        field_derivative = field_derivative * (1 - torch.exp(-2j * np.pi * k))\n",
    "    \n",
    "    field_derivative = torch.narrow(field_derivative, dim, 0, N[dim]//2 + 1)\n",
    "    field_derivative = torch.fft.irfft(field_derivative, dim = dim)\n",
    "\n",
    "    if direction == 1:\n",
    "        field_derivative = torch.narrow(field_derivative, dim, 0, N[dim]-1)/resolution\n",
    "    else:\n",
    "        # pass\n",
    "        # print(dim)\n",
    "        field_derivative = torch.narrow(field_derivative, dim, 1, N[dim]-1)/resolution\n",
    "\n",
    "    return field_derivative\n",
    "\n"
   ]
  },
  {
   "cell_type": "code",
   "execution_count": 20,
   "metadata": {},
   "outputs": [],
   "source": [
    "def compose_viscosity(dfun):        \n",
    "    inv_Re = param_dict['ins_invreynolds']\n",
    "    rho = param_dict['mph_rhogas']\n",
    "    mu = param_dict['mph_mugas']\n",
    "        \n",
    "    viscosity = torch.ones(dfun.shape).cuda()\n",
    "    viscosity *= inv_Re\n",
    "    viscosity = torch.where(dfun > 0, viscosity*(mu/rho), viscosity)\n",
    "\n",
    "    return viscosity\n",
    "\n",
    "def compose_pressure(dfun):\n",
    "    rho = param_dict['mph_rhogas']\n",
    "        \n",
    "    pressure = torch.ones(dfun.shape).cuda()\n",
    "    pressure = torch.where(dfun > 0, pressure*(1/rho), pressure)\n",
    "\n",
    "    return pressure\n",
    "def trim_start(field, dim):\n",
    "        for d in dim:\n",
    "            field = torch.narrow(field, d, 1, field.shape[d]-1)\n",
    "    \n",
    "        return field"
   ]
  },
  {
   "cell_type": "code",
   "execution_count": 35,
   "metadata": {},
   "outputs": [],
   "source": [
    "def velocity_equation2D(pf, vx, vy, df, resolution):\n",
    "    combined_magnitude = torch.sqrt(vx**2 + vy**2)\n",
    "    grad_mag = compute_gradient(combined_magnitude, resolution)\n",
    "    combined_magnitude = trim_ends(combined_magnitude, [-3, -2, -1])\n",
    "\n",
    "    du_dt = grad_mag[0]\n",
    "    grad_vel = grad_mag[1:]\n",
    "\n",
    "    u_grad_u = grad_vel * combined_magnitude\n",
    "\n",
    "\n",
    "    grad_pressure = compute_gradient(pf, resolution)[1:]\n",
    "\n",
    "    pres_const = compose_pressure(df)\n",
    "    reps = [1]*(len(pres_const.shape)+1)\n",
    "    reps[0] = 2\n",
    "    pres_const.unsqueeze(0).repeat(reps)\n",
    "    pres_const = trim_ends(pres_const, [-2, -1])\n",
    "    pres_const = trim_start(pres_const, [-3])\n",
    "\n",
    "    pressure_term =  pres_const.cuda() * grad_pressure\n",
    "\n",
    "    visc_const = compose_viscosity(df)\n",
    "    visc_const = trim_ends(visc_const, [-2, -1])\n",
    "    visc_const = trim_start(visc_const, [-3])\n",
    "    spatial_grad_scaled = visc_const.cuda()*grad_vel\n",
    "\n",
    "    grad_2_x = compute_derivative(spatial_grad_scaled[-1], resolution[-1], -1)\n",
    "    grad_2_y = compute_derivative(spatial_grad_scaled[-2], resolution[-2], -2)\n",
    "    grad_2_x = trim_ends(grad_2_x, [-2])\n",
    "    grad_2_y = trim_ends(grad_2_y, [-1])\n",
    "\n",
    "    pressure_term1 = trim_ends(pressure_term[0], [-2, -1])\n",
    "    pressure_term2 = trim_ends(pressure_term[1], [-2, -1])\n",
    "    u_grad_u1 = trim_ends(u_grad_u[0], [-2, -1])\n",
    "    u_grad_u2 = trim_ends(u_grad_u[1], [-2, -1])\n",
    "    # du_dt = trim_ends(du_dt, [-2. -1])\n",
    "\n",
    "    print(du_dt.shape)\n",
    "\n",
    "\n",
    "    return (du_dt + u_grad_u1 + u_grad_u2 + pressure_term1 + pressure_term2 - grad_2_x - grad_2_y - 1j)\n",
    "\n",
    "\n"
   ]
  },
  {
   "cell_type": "code",
   "execution_count": 36,
   "metadata": {},
   "outputs": [
    {
     "name": "stdout",
     "output_type": "stream",
     "text": [
      "torch.Size([1, 5, 47, 47])\n",
      "torch.Size([1, 5, 47, 47])\n",
      "torch.Size([1, 5, 47, 47])\n",
      "torch.Size([1, 5, 47, 47])\n",
      "torch.Size([1, 5, 47, 47])\n",
      "torch.Size([1, 5, 47, 47])\n"
     ]
    },
    {
     "ename": "TypeError",
     "evalue": "tuple indices must be integers or slices, not float",
     "output_type": "error",
     "traceback": [
      "\u001b[1;31m---------------------------------------------------------------------------\u001b[0m",
      "\u001b[1;31mTypeError\u001b[0m                                 Traceback (most recent call last)",
      "Cell \u001b[1;32mIn[36], line 10\u001b[0m\n\u001b[0;32m      7\u001b[0m vy \u001b[38;5;241m=\u001b[39m vely[\u001b[38;5;241m45\u001b[39m:\u001b[38;5;241m51\u001b[39m, :, :]\n\u001b[0;32m      8\u001b[0m df \u001b[38;5;241m=\u001b[39m dfun[\u001b[38;5;241m45\u001b[39m:\u001b[38;5;241m51\u001b[39m, :, :]\n\u001b[1;32m---> 10\u001b[0m \u001b[43mvelocity_equation2D\u001b[49m\u001b[43m(\u001b[49m\u001b[43mp\u001b[49m\u001b[43m,\u001b[49m\u001b[43m \u001b[49m\u001b[43mvx\u001b[49m\u001b[43m,\u001b[49m\u001b[43m \u001b[49m\u001b[43mvy\u001b[49m\u001b[43m,\u001b[49m\u001b[43m \u001b[49m\u001b[43mdf\u001b[49m\u001b[43m,\u001b[49m\u001b[43m \u001b[49m\u001b[43mresolution\u001b[49m\u001b[43m)\u001b[49m\n",
      "Cell \u001b[1;32mIn[35], line 35\u001b[0m, in \u001b[0;36mvelocity_equation2D\u001b[1;34m(pf, vx, vy, df, resolution)\u001b[0m\n\u001b[0;32m     33\u001b[0m pressure_term1 \u001b[38;5;241m=\u001b[39m trim_ends(pressure_term[\u001b[38;5;241m0\u001b[39m], [\u001b[38;5;241m-\u001b[39m\u001b[38;5;241m2\u001b[39m, \u001b[38;5;241m-\u001b[39m\u001b[38;5;241m1\u001b[39m])\n\u001b[0;32m     34\u001b[0m pressure_term2 \u001b[38;5;241m=\u001b[39m trim_ends(pressure_term[\u001b[38;5;241m1\u001b[39m], [\u001b[38;5;241m-\u001b[39m\u001b[38;5;241m2\u001b[39m, \u001b[38;5;241m-\u001b[39m\u001b[38;5;241m1\u001b[39m])\n\u001b[1;32m---> 35\u001b[0m u_grad_u1 \u001b[38;5;241m=\u001b[39m \u001b[43mtrim_ends\u001b[49m\u001b[43m(\u001b[49m\u001b[43mu_grad_u\u001b[49m\u001b[43m[\u001b[49m\u001b[38;5;241;43m0\u001b[39;49m\u001b[43m]\u001b[49m\u001b[43m,\u001b[49m\u001b[43m \u001b[49m\u001b[43m[\u001b[49m\u001b[38;5;241;43m-\u001b[39;49m\u001b[38;5;241;43m2.\u001b[39;49m\u001b[43m \u001b[49m\u001b[38;5;241;43m-\u001b[39;49m\u001b[38;5;241;43m1\u001b[39;49m\u001b[43m]\u001b[49m\u001b[43m)\u001b[49m\n\u001b[0;32m     36\u001b[0m u_grad_u2 \u001b[38;5;241m=\u001b[39m trim_ends(u_grad_u[\u001b[38;5;241m1\u001b[39m], [\u001b[38;5;241m-\u001b[39m\u001b[38;5;241m2.\u001b[39m \u001b[38;5;241m-\u001b[39m\u001b[38;5;241m1\u001b[39m])\n\u001b[0;32m     37\u001b[0m \u001b[38;5;66;03m# du_dt = trim_ends(du_dt, [-2. -1])\u001b[39;00m\n",
      "Cell \u001b[1;32mIn[23], line 3\u001b[0m, in \u001b[0;36mtrim_ends\u001b[1;34m(field, dim)\u001b[0m\n\u001b[0;32m      1\u001b[0m \u001b[38;5;28;01mdef\u001b[39;00m \u001b[38;5;21mtrim_ends\u001b[39m(field, dim):\n\u001b[0;32m      2\u001b[0m         \u001b[38;5;28;01mfor\u001b[39;00m d \u001b[38;5;129;01min\u001b[39;00m dim:\n\u001b[1;32m----> 3\u001b[0m             field \u001b[38;5;241m=\u001b[39m torch\u001b[38;5;241m.\u001b[39mnarrow(field, d, \u001b[38;5;241m0\u001b[39m, \u001b[43mfield\u001b[49m\u001b[38;5;241;43m.\u001b[39;49m\u001b[43mshape\u001b[49m\u001b[43m[\u001b[49m\u001b[43md\u001b[49m\u001b[43m]\u001b[49m \u001b[38;5;241m-\u001b[39m \u001b[38;5;241m1\u001b[39m)\n\u001b[0;32m      5\u001b[0m         \u001b[38;5;28;01mreturn\u001b[39;00m field\n",
      "\u001b[1;31mTypeError\u001b[0m: tuple indices must be integers or slices, not float"
     ]
    }
   ],
   "source": [
    "resolution = [1, \n",
    "              y_dim[0,1,0] - y_dim[0,0,0], \n",
    "              x_dim[0,0,1] - x_dim[0,0,0]]\n",
    "\n",
    "p = pres[45:51, :, :]\n",
    "vx = velx[45:51, :, :]\n",
    "vy = vely[45:51, :, :]\n",
    "df = dfun[45:51, :, :]\n",
    "\n",
    "velocity_equation2D(p, vx, vy, df, resolution)\n"
   ]
  },
  {
   "cell_type": "code",
   "execution_count": null,
   "metadata": {},
   "outputs": [],
   "source": [
    "fig, ax = plt.subplots(1, 7, figsize=(12, 5))\n",
    "\n",
    "data = {\n",
    "    'Vel Mag': combined_magnitude[50].cpu().numpy(),\n",
    "    'Pressure Grad. X': pressure_term[0, 50].cpu().numpy(),\n",
    "    'Pressure Grad. Y': pressure_term[1, 50].cpu().numpy(),\n",
    "    'Vel Grad. X': u_grad_u[0, 50].cpu().numpy(),\n",
    "    'Vel Grad. Y': u_grad_u[1, 50].cpu().numpy(),\n",
    "    'grad2x': grad_2_x[50].cpu().numpy(),\n",
    "    'grad2y': grad_2_y[50].cpu().numpy(),\n",
    "}\n",
    "\n",
    "for idx, (key, im) in enumerate(data.items()):\n",
    "    im = ax[idx].imshow(np.flipud(im))\n",
    "    fig.colorbar(im, ax=ax[idx], shrink=0.5)\n",
    "    ax[idx].set_title(key)\n",
    "    ax[idx].set_xticks([])\n",
    "    ax[idx].set_yticks([])"
   ]
  }
 ],
 "metadata": {
  "kernelspec": {
   "display_name": "bubble_sciml",
   "language": "python",
   "name": "python3"
  },
  "language_info": {
   "codemirror_mode": {
    "name": "ipython",
    "version": 3
   },
   "file_extension": ".py",
   "mimetype": "text/x-python",
   "name": "python",
   "nbconvert_exporter": "python",
   "pygments_lexer": "ipython3",
   "version": "3.9.18"
  }
 },
 "nbformat": 4,
 "nbformat_minor": 2
}
