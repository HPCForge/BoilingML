{
 "cells": [
  {
   "cell_type": "markdown",
   "id": "ba8371b3",
   "metadata": {},
   "source": [
    "# Loading and Viewing BubbleML"
   ]
  },
  {
   "cell_type": "code",
   "execution_count": null,
   "id": "f60b058a",
   "metadata": {},
   "outputs": [],
   "source": [
    "import h5py\n",
    "import numpy as np\n",
    "import matplotlib.pyplot as plt\n",
    "import numba as nb"
   ]
  },
  {
   "cell_type": "markdown",
   "id": "dab04e01",
   "metadata": {},
   "source": [
    "### Create an h5py file\n",
    "In this case, we are using the simulation run with a wall temperature of 100 degrees Celsius.\n",
    "The simulation file includes a list of keys:\n",
    "  1. dfun is the distance function from the bubbble interface\n",
    "  2. pressure is the pressure gradient\n",
    "  3. temperature is the temperature map\n",
    "  4. velx is the velocity in the x direction\n",
    "  5. vely is the velocity in the y direction\n",
    "  6. x and y are coordinate grids\n",
    "  7. int/real-runtime-params are metadata associated with the simulation run.\n",
    "     This includes things like the Reynold's number, simulation dimensions, etc."
   ]
  },
  {
   "cell_type": "code",
   "execution_count": null,
   "id": "2c835c16",
   "metadata": {},
   "outputs": [],
   "source": [
    "twall_100 = h5py.File('Twall-100.hdf5', 'r')\n",
    "\n",
    "print(twall_100.keys())"
   ]
  },
  {
   "cell_type": "markdown",
   "id": "7d5a1b53",
   "metadata": {},
   "source": [
    "### Tensor sizes\n",
    "Each tensor is laid out [T x X x Y] (time, x-direction, y-direction). In this case, there are 200 time steps and the domain resolution is 48x48"
   ]
  },
  {
   "cell_type": "code",
   "execution_count": null,
   "id": "9a0bd89d",
   "metadata": {},
   "outputs": [],
   "source": [
    "[time_res, x_res, y_res] = twall_100['temperature'][:].shape\n",
    "\n",
    "print(f'# Timesteps: {time_res}')\n",
    "print(f'Domain resolution: {x_res} x {y_res}')"
   ]
  },
  {
   "cell_type": "markdown",
   "id": "dbf12cad",
   "metadata": {},
   "source": [
    "### Visualizing the data\n",
    "The data can be easily loaded into numpy (or torch, tensorflow, etc) arrays and visualized with matplotlib."
   ]
  },
  {
   "cell_type": "code",
   "execution_count": null,
   "id": "15334ef1",
   "metadata": {},
   "outputs": [],
   "source": [
    "temp = twall_100['temperature'][:]\n",
    "velx = twall_100['velx'][:]\n",
    "vely = twall_100['vely'][:]\n",
    "pres = twall_100['pressure'][:]\n",
    "dfun = twall_100['dfun'][:]\n",
    "\n",
    "# compute the velocity magnitude\n",
    "mag = np.sqrt(velx**2 + vely**2)\n",
    "\n",
    "# plot the 50-th timestep for each variable\n",
    "fig, ax = plt.subplots(1, 4, figsize=(12, 5))\n",
    "\n",
    "data = {\n",
    "    'Temperature': temp[50],\n",
    "    'Velocity Mag.': mag[50],\n",
    "    'Pressure Grad.': pres[50],\n",
    "    'Distance Func.': dfun[50]\n",
    "}\n",
    "\n",
    "for idx, (key, im) in enumerate(data.items()):\n",
    "    im = ax[idx].imshow(np.flipud(im))\n",
    "    fig.colorbar(im, ax=ax[idx], shrink=0.5)\n",
    "    ax[idx].set_title(key)\n",
    "    ax[idx].set_xticks([])\n",
    "    ax[idx].set_yticks([])"
   ]
  },
  {
   "cell_type": "markdown",
   "id": "0fd957ba",
   "metadata": {},
   "source": [
    "### Using dfun\n",
    "dfun is a *signed distance function* to the liquid-vapor interfaces. \n",
    "dfun > 0 means the point is in vapor, dfun < 0 means the point is in liquid. It is also a convenient way to identify the bubble interfaces."
   ]
  },
  {
   "cell_type": "code",
   "execution_count": null,
   "id": "3c71f0fe",
   "metadata": {},
   "outputs": [],
   "source": [
    "@nb.njit\n",
    "def get_interface_mask(dgrid):\n",
    "    r\"\"\" heavy-side function to determine the bubble interfaces\n",
    "    \"\"\"\n",
    "    interface = np.zeros(dgrid.shape).astype(np.bool_)\n",
    "    [rows, cols] = dgrid.shape\n",
    "    for i in range(rows):\n",
    "        for j in range(cols):\n",
    "            adj = ((i < rows - 1 and dgrid[i][j] * dgrid[i+1, j  ] <= 0) or\n",
    "                   (i > 0 and dgrid[i][j] * dgrid[i-1, j  ] <= 0) or\n",
    "                   (j < cols - 1 and dgrid[i][j] * dgrid[i,   j+1] <= 0) or\n",
    "                   (j > 0 and dgrid[i][j] * dgrid[i,   j-1] <= 0))\n",
    "            interface[i][j] = adj\n",
    "    return interface"
   ]
  },
  {
   "cell_type": "code",
   "execution_count": null,
   "id": "d6b08304",
   "metadata": {},
   "outputs": [],
   "source": [
    "fig, ax = plt.subplots(1, 5, figsize=(14, 5))\n",
    "\n",
    "bubbles = dfun[50] >= 0\n",
    "liquid = dfun[50] < 0\n",
    "interface = get_interface_mask(dfun[50])\n",
    "\n",
    "data = {\n",
    "    'Temperature': temp[50],\n",
    "    'Velocity Mag.': mag[50],\n",
    "    'Interface': interface,\n",
    "    'Bubbles': bubbles,\n",
    "    'Liquid': liquid\n",
    "}\n",
    "\n",
    "for idx, (key, im) in enumerate(data.items()):\n",
    "    ax[idx].imshow(np.flipud(im))\n",
    "    ax[idx].set_title(key)\n",
    "    ax[idx].set_xticks([])\n",
    "    ax[idx].set_yticks([])"
   ]
  },
  {
   "cell_type": "code",
   "execution_count": null,
   "id": "c1d656fa",
   "metadata": {},
   "outputs": [],
   "source": []
  }
 ],
 "metadata": {
  "kernelspec": {
   "display_name": "Python 3 (ipykernel)",
   "language": "python",
   "name": "python3"
  },
  "language_info": {
   "codemirror_mode": {
    "name": "ipython",
    "version": 3
   },
   "file_extension": ".py",
   "mimetype": "text/x-python",
   "name": "python",
   "nbconvert_exporter": "python",
   "pygments_lexer": "ipython3",
   "version": "3.11.4"
  }
 },
 "nbformat": 4,
 "nbformat_minor": 5
}
